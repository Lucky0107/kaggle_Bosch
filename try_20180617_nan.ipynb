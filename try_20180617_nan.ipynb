{
 "cells": [
  {
   "cell_type": "code",
   "execution_count": 1,
   "metadata": {},
   "outputs": [
    {
     "name": "stderr",
     "output_type": "stream",
     "text": [
      "C:\\Users\\tmiya\\Anaconda3\\lib\\site-packages\\sklearn\\cross_validation.py:41: DeprecationWarning: This module was deprecated in version 0.18 in favor of the model_selection module into which all the refactored classes and functions are moved. Also note that the interface of the new CV iterators are different from that of this module. This module will be removed in 0.20.\n",
      "  \"This module will be removed in 0.20.\", DeprecationWarning)\n"
     ]
    }
   ],
   "source": [
    "%matplotlib inline\n",
    "import numpy as np\n",
    "import pandas as pd\n",
    "from xgboost import XGBClassifier\n",
    "from sklearn.cross_validation import cross_val_score, StratifiedKFold\n",
    "from sklearn import cross_validation, metrics\n",
    "import matplotlib.pyplot as plt\n",
    "import seaborn as sns\n",
    "from scipy import stats\n",
    "from pylab import rcParams\n",
    "rcParams['figure.figsize'] = 15,3"
   ]
  },
  {
   "cell_type": "code",
   "execution_count": 104,
   "metadata": {},
   "outputs": [],
   "source": [
    "def fit_clf(X_train, y_train):\n",
    "    clf = XGBClassifier(booster='dart', max_depth=5, base_score=0.010)\n",
    "    #cv = StratifiedKFold(y_train.iloc[:,0], n_folds=3, shuffle=True)\n",
    "    cv = StratifiedKFold(y_train.iloc[:,0], n_folds=3)\n",
    "    y_pred_train = np.ones(y_train.shape[0])\n",
    "    for i, (train, test) in enumerate(cv):\n",
    "        y_pred_train[test] = clf.fit(X_train.iloc[train], y_train.iloc[train]).predict_proba(X_train.iloc[test])[:,1]\n",
    "        print(\"fold {}, ROC AUC: {:.3f}\".format(i, metrics.roc_auc_score(y_train.iloc[test], y_pred_train[test])))\n",
    "    print(metrics.roc_auc_score(y_train, y_pred_train))\n",
    "\n",
    "#    clf.fit(X_train, y_train)\n",
    "#    y_pred_train = clf.predict_proba(X_train)[:,1]\n",
    "    plt.figure()\n",
    "    thresholds = np.linspace(0.01, 1.00, 100)\n",
    "    mcc = np.array([metrics.matthews_corrcoef(y_train, y_pred_train>thr) for thr in thresholds])\n",
    "    plt.plot(thresholds, mcc)\n",
    "    best_threshold = thresholds[mcc.argmax()]\n",
    "    print(\"MCC: %f\" % mcc.max())\n",
    "    \n",
    "    return clf, best_threshold\n",
    "\n",
    "\n",
    "def predict(clf, X_train, y_train, best_threshold, X_test, y_test):\n",
    "    train_predictions = clf.predict(X_train)\n",
    "    train_predprob = (clf.predict_proba(X_train)[:,1] > best_threshold)\n",
    "        \n",
    "    #Print model report:\n",
    "    print(\"\\nModel Report\")\n",
    "    print(\"Accuracy : %.4g\" % metrics.accuracy_score(y_train.values, train_predictions))\n",
    "    print(\"AUC Score (Train): %f\" % metrics.roc_auc_score(y_train, train_predprob))\n",
    "    \n",
    "    plt.figure()\n",
    "\n",
    "    # Predict on testing data:\n",
    "    test_predprob = (clf.predict_proba(X_test)[:,1] > best_threshold)\n",
    "    #results = test_results.merge(dtest[['ID','predprob']], on='ID')\n",
    "    print('AUC Score (Test): %f' % metrics.roc_auc_score(y_test, test_predprob))\n",
    "                \n",
    "    feat_imp = pd.Series(clf.get_booster().get_fscore()).sort_values(ascending=False)\n",
    "    feat_imp.plot(kind='bar', title='Feature Importances')\n",
    "    plt.ylabel('Feature Importance Score')\n",
    "    \n",
    "    return test_predprob.astype(int)\n"
   ]
  },
  {
   "cell_type": "markdown",
   "metadata": {},
   "source": [
    "### nanかどうかだけで判断"
   ]
  },
  {
   "cell_type": "markdown",
   "metadata": {},
   "source": [
    "### 特徴量を絞って全体で学習する"
   ]
  },
  {
   "cell_type": "code",
   "execution_count": 105,
   "metadata": {},
   "outputs": [],
   "source": [
    "nrows = 50000\n",
    "usecols_n = list(range(969))\n",
    "\n",
    "X_train = pd.concat([\n",
    "    pd.read_csv('../input/train_date.csv', index_col=0, nrows=nrows),\n",
    "    pd.read_csv('../input/train_numeric.csv', index_col=0, nrows=nrows, usecols = usecols_n)\n",
    "], axis=1)\n",
    "y_train = pd.read_csv('../input/train_numeric.csv', index_col=0, nrows=nrows, usecols=[0,969])\n",
    "\n",
    "X_train = X_train.isna()\n",
    "y_train = (y_train == 1)"
   ]
  },
  {
   "cell_type": "code",
   "execution_count": 106,
   "metadata": {},
   "outputs": [
    {
     "name": "stderr",
     "output_type": "stream",
     "text": [
      "C:\\Users\\tmiya\\Anaconda3\\lib\\site-packages\\sklearn\\preprocessing\\label.py:95: DataConversionWarning: A column-vector y was passed when a 1d array was expected. Please change the shape of y to (n_samples, ), for example using ravel().\n",
      "  y = column_or_1d(y, warn=True)\n",
      "C:\\Users\\tmiya\\Anaconda3\\lib\\site-packages\\sklearn\\preprocessing\\label.py:128: DataConversionWarning: A column-vector y was passed when a 1d array was expected. Please change the shape of y to (n_samples, ), for example using ravel().\n",
      "  y = column_or_1d(y, warn=True)\n"
     ]
    },
    {
     "data": {
      "text/plain": [
       "XGBClassifier(base_score=0.005, booster='gbtree', colsample_bylevel=1,\n",
       "       colsample_bytree=1, gamma=0, learning_rate=0.1, max_delta_step=0,\n",
       "       max_depth=3, min_child_weight=1, missing=None, n_estimators=100,\n",
       "       n_jobs=1, nthread=None, objective='binary:logistic', random_state=0,\n",
       "       reg_alpha=0, reg_lambda=1, scale_pos_weight=1, seed=None,\n",
       "       silent=True, subsample=1)"
      ]
     },
     "execution_count": 106,
     "metadata": {},
     "output_type": "execute_result"
    }
   ],
   "source": [
    "clf = XGBClassifier(base_score=0.005)\n",
    "clf.fit(X_train, y_train)"
   ]
  },
  {
   "cell_type": "code",
   "execution_count": 107,
   "metadata": {},
   "outputs": [],
   "source": [
    "feat_indices = np.where(clf.feature_importances_>0.005)[0]\n",
    "\n",
    "n_date_features = 1156\n",
    "feat_indices_date = np.append([0], feat_indices[feat_indices < n_date_features] + 1)\n",
    "feat_indices_numeric = np.append([0], feat_indices[feat_indices >= n_date_features] + 1 - n_date_features)\n"
   ]
  },
  {
   "cell_type": "code",
   "execution_count": 108,
   "metadata": {},
   "outputs": [
    {
     "data": {
      "text/plain": [
       "1130"
      ]
     },
     "execution_count": 108,
     "metadata": {},
     "output_type": "execute_result"
    }
   ],
   "source": [
    "feat_indices.max()"
   ]
  },
  {
   "cell_type": "markdown",
   "metadata": {},
   "source": [
    "#### 全体で学習する"
   ]
  },
  {
   "cell_type": "code",
   "execution_count": 109,
   "metadata": {
    "scrolled": false
   },
   "outputs": [
    {
     "name": "stderr",
     "output_type": "stream",
     "text": [
      "C:\\Users\\tmiya\\Anaconda3\\lib\\site-packages\\numpy\\lib\\arraysetops.py:472: FutureWarning: elementwise comparison failed; returning scalar instead, but in the future will perform elementwise comparison\n",
      "  mask |= (ar1 == a)\n",
      "C:\\Users\\tmiya\\Anaconda3\\lib\\site-packages\\sklearn\\preprocessing\\label.py:95: DataConversionWarning: A column-vector y was passed when a 1d array was expected. Please change the shape of y to (n_samples, ), for example using ravel().\n",
      "  y = column_or_1d(y, warn=True)\n",
      "C:\\Users\\tmiya\\Anaconda3\\lib\\site-packages\\sklearn\\preprocessing\\label.py:128: DataConversionWarning: A column-vector y was passed when a 1d array was expected. Please change the shape of y to (n_samples, ), for example using ravel().\n",
      "  y = column_or_1d(y, warn=True)\n"
     ]
    },
    {
     "name": "stdout",
     "output_type": "stream",
     "text": [
      "fold 0, ROC AUC: 0.657\n"
     ]
    },
    {
     "name": "stderr",
     "output_type": "stream",
     "text": [
      "C:\\Users\\tmiya\\Anaconda3\\lib\\site-packages\\sklearn\\preprocessing\\label.py:95: DataConversionWarning: A column-vector y was passed when a 1d array was expected. Please change the shape of y to (n_samples, ), for example using ravel().\n",
      "  y = column_or_1d(y, warn=True)\n",
      "C:\\Users\\tmiya\\Anaconda3\\lib\\site-packages\\sklearn\\preprocessing\\label.py:128: DataConversionWarning: A column-vector y was passed when a 1d array was expected. Please change the shape of y to (n_samples, ), for example using ravel().\n",
      "  y = column_or_1d(y, warn=True)\n"
     ]
    },
    {
     "name": "stdout",
     "output_type": "stream",
     "text": [
      "fold 1, ROC AUC: 0.623\n"
     ]
    },
    {
     "name": "stderr",
     "output_type": "stream",
     "text": [
      "C:\\Users\\tmiya\\Anaconda3\\lib\\site-packages\\sklearn\\preprocessing\\label.py:95: DataConversionWarning: A column-vector y was passed when a 1d array was expected. Please change the shape of y to (n_samples, ), for example using ravel().\n",
      "  y = column_or_1d(y, warn=True)\n",
      "C:\\Users\\tmiya\\Anaconda3\\lib\\site-packages\\sklearn\\preprocessing\\label.py:128: DataConversionWarning: A column-vector y was passed when a 1d array was expected. Please change the shape of y to (n_samples, ), for example using ravel().\n",
      "  y = column_or_1d(y, warn=True)\n"
     ]
    },
    {
     "name": "stdout",
     "output_type": "stream",
     "text": [
      "fold 2, ROC AUC: 0.631\n",
      "0.6348142406006663\n"
     ]
    },
    {
     "name": "stderr",
     "output_type": "stream",
     "text": [
      "C:\\Users\\tmiya\\Anaconda3\\lib\\site-packages\\sklearn\\metrics\\classification.py:538: RuntimeWarning: invalid value encountered in double_scalars\n",
      "  mcc = cov_ytyp / np.sqrt(cov_ytyt * cov_ypyp)\n"
     ]
    },
    {
     "name": "stdout",
     "output_type": "stream",
     "text": [
      "MCC: 0.158626\n"
     ]
    },
    {
     "data": {
      "image/png": "[encoded data removed]",
      "text/plain": [
       "<Figure size 432x288 with 1 Axes>"
      ]
     },
     "metadata": {},
     "output_type": "display_data"
    }
   ],
   "source": [
    "if n_date_features <= feat_indices.max():\n",
    "    X_train = pd.concat([\n",
    "        pd.read_csv('../input/train_date.csv', index_col=0, usecols=feat_indices_date),\n",
    "        pd.read_csv('../input/train_numeric.csv', index_col=0, usecols=feat_indices_numeric)\n",
    "    ], axis=1)\n",
    "else:\n",
    "    X_train = pd.read_csv('../input/train_date.csv', index_col=0, usecols=feat_indices_date)\n",
    "\n",
    "y_train = pd.read_csv('../input/train_numeric.csv', index_col=0, usecols=[0,969])\n",
    "\n",
    "X_train = X_train.isna()\n",
    "\n",
    "clf, best_threshold = fit_clf(X_train, y_train)\n"
   ]
  },
  {
   "cell_type": "markdown",
   "metadata": {},
   "source": [
    "### テスト"
   ]
  },
  {
   "cell_type": "code",
   "execution_count": 96,
   "metadata": {},
   "outputs": [
    {
     "name": "stderr",
     "output_type": "stream",
     "text": [
      "C:\\Users\\tmiya\\Anaconda3\\lib\\site-packages\\numpy\\lib\\arraysetops.py:472: FutureWarning: elementwise comparison failed; returning scalar instead, but in the future will perform elementwise comparison\n",
      "  mask |= (ar1 == a)\n"
     ]
    }
   ],
   "source": [
    "if n_date_features <= feat_indices.max():\n",
    "    X_test = pd.concat([\n",
    "        pd.read_csv('../input/test_date.csv', index_col=0, usecols=feat_indices_date),\n",
    "        pd.read_csv('../input/test_numeric.csv', index_col=0, usecols=feat_indices_numeric)\n",
    "    ], axis=1)\n",
    "else:\n",
    "    X_test = pd.read_csv('../input/test_date.csv', index_col=0, usecols=feat_indices_date)\n",
    "\n",
    "X_test = X_test.isna()\n",
    "\n",
    "preds = (clf.predict_proba(X_test)[:,1] > best_threshold).astype(np.int8)\n",
    "sub = pd.read_csv(\"../input/sample_submission.csv\", index_col=0)\n",
    "sub[\"Response\"] = preds\n",
    "sub.to_csv(\"submission.csv.gz\", compression=\"gzip\")\n"
   ]
  }
 ],
 "metadata": {
  "kernelspec": {
   "display_name": "Python 3",
   "language": "python",
   "name": "python3"
  },
  "language_info": {
   "codemirror_mode": {
    "name": "ipython",
    "version": 3
   },
   "file_extension": ".py",
   "mimetype": "text/x-python",
   "name": "python",
   "nbconvert_exporter": "python",
   "pygments_lexer": "ipython3",
   "version": "3.6.5"
  }
 },
 "nbformat": 4,
 "nbformat_minor": 2
}
